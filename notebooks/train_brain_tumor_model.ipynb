# --- Импорты ---
import os
import numpy as np
import matplotlib.pyplot as plt
import tensorflow as tf
from tensorflow.keras.preprocessing.image import ImageDataGenerator
from tensorflow.keras.applications import EfficientNetB0
from tensorflow.keras import layers, models
from sklearn.utils.class_weight import compute_class_weight

print("TensorFlow версия:", tf.__version__)

# --- Пути к данным ---
train_dir = '../data/train'
val_dir = '../data/validation'

img_size = 224
batch_size = 32

# --- Генераторы данных ---
datagen_train = ImageDataGenerator(
    rescale=1./255,
    horizontal_flip=True,
    rotation_range=20,
    zoom_range=0.2
)

datagen_val = ImageDataGenerator(rescale=1./255)

train_generator = datagen_train.flow_from_directory(
    train_dir,
    target_size=(img_size, img_size),
    batch_size=batch_size,
    class_mode='binary'
)

val_generator = datagen_val.flow_from_directory(
    val_dir,
    target_size=(img_size, img_size),
    batch_size=batch_size,
    class_mode='binary',
    shuffle=False
)

# --- Веса классов ---
class_weights = compute_class_weight('balanced', classes=np.unique(train_generator.classes), y=train_generator.classes)
class_weights = dict(enumerate(class_weights))

# --- Построение модели ---
def build_model():
    base_model = EfficientNetB0(include_top=False, input_shape=(img_size, img_size, 3),
                                weights='imagenet', pooling='avg')
    base_model.trainable = False

    model = models.Sequential([
        base_model,
        layers.Dropout(0.5),
        layers.Dense(1, activation='sigmoid')
    ])

    model.compile(optimizer='adam',
                  loss='binary_crossentropy',
                  metrics=['accuracy'])
    return model

model = build_model()
model.summary()

# --- Обучение ---
history = model.fit(
    train_generator,
    epochs=10,
    validation_data=val_generator,
    class_weight=class_weights
)

# --- Fine-tuning ---
model.layers[0].trainable = True
model.compile(optimizer=tf.keras.optimizers.Adam(learning_rate=1e-5),
              loss='binary_crossentropy',
              metrics=['accuracy'])

history_fine = model.fit(
    train_generator,
    epochs=5,
    validation_data=val_generator
)

# --- Сохранение модели ---
model.save("../brain_tumor_classifier.h5")
print("Модель сохранена как brain_tumor_classifier.h5")
